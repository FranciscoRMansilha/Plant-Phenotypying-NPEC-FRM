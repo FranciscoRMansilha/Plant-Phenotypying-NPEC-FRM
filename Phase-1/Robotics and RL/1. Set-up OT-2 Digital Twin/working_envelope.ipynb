{
 "cells": [
  {
   "cell_type": "code",
   "execution_count": 1,
   "metadata": {},
   "outputs": [],
   "source": [
    "from sim_class import Simulation\n",
    "\n",
    "# Initialize the simulation with a specified number of agents\n",
    "sim = Simulation(num_agents=1)  # For one robot"
   ]
  },
  {
   "cell_type": "code",
   "execution_count": 2,
   "metadata": {},
   "outputs": [
    {
     "name": "stdout",
     "output_type": "stream",
     "text": [
      "{'robotId_1': {'joint_states': {'joint_0': {'position': 0.26007456794241357, 'velocity': -0.004609271430515628, 'reaction_forces': (0.0, 0.0, 0.0, 0.0, 0.0, 0.0), 'motor_torque': 500.00000000000006}, 'joint_1': {'position': 0.2600704521532095, 'velocity': -0.0045359501452362765, 'reaction_forces': (0.0, 0.0, 0.0, 0.0, 0.0, 0.0), 'motor_torque': 500.00000000000006}, 'joint_2': {'position': 0.00021660756670975034, 'velocity': 0.0003269051717775617, 'reaction_forces': (0.0, 0.0, 0.0, 0.0, 0.0, 0.0), 'motor_torque': -800.0}}, 'robot_position': [-0.26007525887208005, -0.26007325202296705, 0.030211596311961776], 'pipette_position': [-0.1871, -0.1706, 0.1197]}}\n"
     ]
    }
   ],
   "source": [
    "# Corner of coordinates (0, 0, 0)\n",
    "\n",
    "# Example action: Move joints with specific velocities\n",
    "velocity_x = -0.3\n",
    "velocity_y = - 0.3   \n",
    "velocity_z = - 0.3\n",
    "drop_command = -1\n",
    "actions = [[velocity_x, velocity_y, velocity_z, drop_command]]\n",
    "\n",
    "# Run the simulation for a specified number of steps\n",
    "c_OOO = sim.run(actions, num_steps = 400)\n",
    "print(c_OOO)"
   ]
  },
  {
   "cell_type": "code",
   "execution_count": 3,
   "metadata": {},
   "outputs": [
    {
     "name": "stdout",
     "output_type": "stream",
     "text": [
      "{'robotId_1': {'joint_states': {'joint_0': {'position': -0.18000462732995426, 'velocity': 1.2416355799655018e-07, 'reaction_forces': (0.0, 0.0, 0.0, 0.0, 0.0, 0.0), 'motor_torque': -500.00000000000006}, 'joint_1': {'position': 0.2600000437624292, 'velocity': 3.1168474847839726e-21, 'reaction_forces': (0.0, 0.0, 0.0, 0.0, 0.0, 0.0), 'motor_torque': 25.80873164158368}, 'joint_2': {'position': 0.00019911723892298923, 'velocity': -2.1371706774972197e-06, 'reaction_forces': (0.0, 0.0, 0.0, 0.0, 0.0, 0.0), 'motor_torque': 121.75069877740393}}, 'robot_position': [0.18000462760798208, -0.2599999100486481, 0.030198925786639234], 'pipette_position': [0.253, -0.1705, 0.1197]}}\n"
     ]
    }
   ],
   "source": [
    "# Corner of coordinates (X, 0, 0)\n",
    "\n",
    "# Example action: Move joints with specific velocities\n",
    "velocity_x = 0.3\n",
    "velocity_y = 0   \n",
    "velocity_z = 0\n",
    "drop_command = 0\n",
    "actions = [[velocity_x, velocity_y, velocity_z, drop_command]]\n",
    "\n",
    "# Run the simulation for a specified number of steps\n",
    "c_XOO = sim.run(actions, num_steps = 400)\n",
    "print(c_XOO)"
   ]
  },
  {
   "cell_type": "code",
   "execution_count": 4,
   "metadata": {},
   "outputs": [
    {
     "name": "stdout",
     "output_type": "stream",
     "text": [
      "{'robotId_1': {'joint_states': {'joint_0': {'position': -0.17999354906884962, 'velocity': 1.2872015506017162e-06, 'reaction_forces': (0.0, 0.0, 0.0, 0.0, 0.0, 0.0), 'motor_torque': -0.0005232149964906271}, 'joint_1': {'position': -0.13000021083530708, 'velocity': 2.6915913086706267e-05, 'reaction_forces': (0.0, 0.0, 0.0, 0.0, 0.0, 0.0), 'motor_torque': -500.00000000000006}, 'joint_2': {'position': 0.0001994916457801691, 'velocity': 1.05926927795265e-21, 'reaction_forces': (0.0, 0.0, 0.0, 0.0, 0.0, 0.0), 'motor_torque': 118.54494435546647}}, 'robot_position': [0.1799930889695725, 0.1300008670639566, 0.03019943539965669], 'pipette_position': [0.253, 0.2195, 0.1197]}}\n"
     ]
    }
   ],
   "source": [
    "# Corner of coordinates (X, Y, 0)\n",
    "\n",
    "# Example action: Move joints with specific velocities\n",
    "velocity_x = 0\n",
    "velocity_y = 0.3 \n",
    "velocity_z = 0\n",
    "drop_command = 0\n",
    "actions = [[velocity_x, velocity_y, velocity_z, drop_command]]\n",
    "\n",
    "# Run the simulation for a specified number of steps\n",
    "c_XYO = sim.run(actions, num_steps = 450)\n",
    "print(c_XYO)"
   ]
  },
  {
   "cell_type": "code",
   "execution_count": 5,
   "metadata": {},
   "outputs": [
    {
     "name": "stdout",
     "output_type": "stream",
     "text": [
      "{'robotId_1': {'joint_states': {'joint_0': {'position': 0.26000276609576906, 'velocity': -7.024555723538338e-11, 'reaction_forces': (0.0, 0.0, 0.0, 0.0, 0.0, 0.0), 'motor_torque': 500.00000000000006}, 'joint_1': {'position': -0.13000006091228755, 'velocity': 2.1640096328430944e-21, 'reaction_forces': (0.0, 0.0, 0.0, 0.0, 0.0, 0.0), 'motor_torque': -21.848082610119587}, 'joint_2': {'position': 0.00020121882555274763, 'velocity': -1.0900246605651379e-06, 'reaction_forces': (0.0, 0.0, 0.0, 0.0, 0.0, 0.0), 'motor_torque': 114.13599822698997}}, 'robot_position': [-0.26000276609575657, 0.1300000030552733, 0.03020113693883595], 'pipette_position': [-0.187, 0.2195, 0.1197]}}\n"
     ]
    }
   ],
   "source": [
    "# Corner of coordinates (0, Y, 0)\n",
    "\n",
    "# Example action: Move joints with specific velocities\n",
    "velocity_x = -0.3\n",
    "velocity_y = 0\n",
    "velocity_z = 0\n",
    "drop_command = 0\n",
    "actions = [[velocity_x, velocity_y, velocity_z, drop_command]]\n",
    "\n",
    "# Run the simulation for a specified number of steps\n",
    "c_OYO = sim.run(actions, num_steps = 450)\n",
    "print(c_OYO)"
   ]
  },
  {
   "cell_type": "code",
   "execution_count": 6,
   "metadata": {},
   "outputs": [
    {
     "name": "stdout",
     "output_type": "stream",
     "text": [
      "{'robotId_1': {'joint_states': {'joint_0': {'position': 0.25999989651791294, 'velocity': 1.2152892455550795e-05, 'reaction_forces': (0.0, 0.0, 0.0, 0.0, 0.0, 0.0), 'motor_torque': -0.02408194648431674}, 'joint_1': {'position': 0.2600018125792403, 'velocity': 4.6810773444987324e-05, 'reaction_forces': (0.0, 0.0, 0.0, 0.0, 0.0, 0.0), 'motor_torque': 500.00000000000006}, 'joint_2': {'position': 0.17031262644748738, 'velocity': -0.01889743576590865, 'reaction_forces': (0.0, 0.0, 0.0, 0.0, 0.0, 0.0), 'motor_torque': 800.0}}, 'robot_position': [-0.2599998900782994, -0.26000185754710087, 0.20031253334503618], 'pipette_position': [-0.187, -0.1705, 0.2898]}}\n"
     ]
    }
   ],
   "source": [
    "# Corner of coordinates (0, 0, Z)\n",
    "\n",
    "# Example action: Move joints with specific velocities\n",
    "velocity_x = 0\n",
    "velocity_y = -0.3\n",
    "velocity_z = 0.3\n",
    "drop_command = 0\n",
    "actions = [[velocity_x, velocity_y, velocity_z, drop_command]]\n",
    "\n",
    "# Run the simulation for a specified number of steps\n",
    "c_OOZ = sim.run(actions, num_steps = 450)\n",
    "print(c_OOZ)"
   ]
  },
  {
   "cell_type": "code",
   "execution_count": 7,
   "metadata": {},
   "outputs": [
    {
     "name": "stdout",
     "output_type": "stream",
     "text": [
      "{'robotId_1': {'joint_states': {'joint_0': {'position': -0.1800040049740894, 'velocity': 8.595176097807571e-11, 'reaction_forces': (0.0, 0.0, 0.0, 0.0, 0.0, 0.0), 'motor_torque': -500.00000000000006}, 'joint_1': {'position': 0.2600000000000001, 'velocity': 1.5128670156522235e-21, 'reaction_forces': (0.0, 0.0, 0.0, 0.0, 0.0, 0.0), 'motor_torque': 21.01993288854167}, 'joint_2': {'position': 0.16997212310972665, 'velocity': -1.737825605947592e-06, 'reaction_forces': (0.0, 0.0, 0.0, 0.0, 0.0, 0.0), 'motor_torque': 122.63811110414808}}, 'robot_position': [0.18000400497406674, -0.25999993704651414, 0.1999720603911076], 'pipette_position': [0.253, -0.1705, 0.2895]}}\n"
     ]
    }
   ],
   "source": [
    "# Corner of coordinates (X, 0, Z)\n",
    "\n",
    "# Example action: Move joints with specific velocities\n",
    "\n",
    "velocity_x = 0.3\n",
    "velocity_y = 0   \n",
    "velocity_z = 0\n",
    "drop_command = 0\n",
    "actions = [[velocity_x, velocity_y, velocity_z, drop_command]]\n",
    "\n",
    "# Run the simulation for a specified number of steps\n",
    "c_XOZ = sim.run(actions, num_steps = 450)\n",
    "print(c_XOZ)"
   ]
  },
  {
   "cell_type": "code",
   "execution_count": 8,
   "metadata": {},
   "outputs": [
    {
     "name": "stdout",
     "output_type": "stream",
     "text": [
      "{'robotId_1': {'joint_states': {'joint_0': {'position': -0.17992291518883963, 'velocity': 0.00013775513512243813, 'reaction_forces': (0.0, 0.0, 0.0, 0.0, 0.0, 0.0), 'motor_torque': 0.0003374895095862272}, 'joint_1': {'position': -0.13000511791109512, 'velocity': 3.774300822406741e-09, 'reaction_forces': (0.0, 0.0, 0.0, 0.0, 0.0, 0.0), 'motor_torque': -500.00000000000006}, 'joint_2': {'position': 0.16994606950219882, 'velocity': -6.440164219367833e-21, 'reaction_forces': (0.0, 0.0, 0.0, 0.0, 0.0, 0.0), 'motor_torque': 122.63811195633488}}, 'robot_position': [0.17992291518841375, 0.13000510199595738, 0.19994572457179238], 'pipette_position': [0.2529, 0.2195, 0.2894]}}\n"
     ]
    }
   ],
   "source": [
    "# Corner of coordinates (X, Y, Z)\n",
    "\n",
    "# Example action: Move joints with specific velocities\n",
    "velocity_x = 0\n",
    "velocity_y = 0.3 \n",
    "velocity_z = 0\n",
    "drop_command = 0\n",
    "actions = [[velocity_x, velocity_y, velocity_z, drop_command]]\n",
    "\n",
    "# Run the simulation for a specified number of steps\n",
    "c_XYZ = sim.run(actions, num_steps = 450)\n",
    "print(c_XYZ)"
   ]
  },
  {
   "cell_type": "code",
   "execution_count": 9,
   "metadata": {},
   "outputs": [
    {
     "name": "stdout",
     "output_type": "stream",
     "text": [
      "{'robotId_1': {'joint_states': {'joint_0': {'position': 0.26000300508167745, 'velocity': 1.6690417022085315e-05, 'reaction_forces': (0.0, 0.0, 0.0, 0.0, 0.0, 0.0), 'motor_torque': 500.00000000000006}, 'joint_1': {'position': -0.13000000000000006, 'velocity': 2.2384282857509197e-22, 'reaction_forces': (0.0, 0.0, 0.0, 0.0, 0.0, 0.0), 'motor_torque': -26.350480359693076}, 'joint_2': {'position': 0.16989331872258026, 'velocity': -9.878247281446728e-07, 'reaction_forces': (0.0, 0.0, 0.0, 0.0, 0.0, 0.0), 'motor_torque': 122.63547316880725}}, 'robot_position': [-0.26000308472738176, 0.1299999777464409, 0.19989328187781927], 'pipette_position': [-0.187, 0.2195, 0.2894]}}\n"
     ]
    }
   ],
   "source": [
    "# Corner of coordinates (0, Y, z)\n",
    "\n",
    "# Example action: Move joints with specific velocities\n",
    "velocity_x = -0.3\n",
    "velocity_y = 0\n",
    "velocity_z = 0\n",
    "drop_command = 0\n",
    "actions = [[velocity_x, velocity_y, velocity_z, drop_command]]\n",
    "\n",
    "# Run the simulation for a specified number of steps\n",
    "c_OYZ = sim.run(actions, num_steps = 450)\n",
    "print(c_OYZ)"
   ]
  },
  {
   "cell_type": "code",
   "execution_count": 10,
   "metadata": {},
   "outputs": [],
   "source": [
    "# Extract Pipette Positions for each corner\n",
    "c_OOO_position = c_OOO['robotId_1']['pipette_position']\n",
    "c_XOO_position = c_XOO['robotId_1']['pipette_position']\n",
    "c_XYO_position = c_XYO['robotId_1']['pipette_position']\n",
    "c_OYO_position = c_OYO['robotId_1']['pipette_position']\n",
    "c_OOZ_position = c_OOZ['robotId_1']['pipette_position']\n",
    "c_XOZ_position = c_XOZ['robotId_1']['pipette_position']\n",
    "c_XYZ_position = c_XYZ['robotId_1']['pipette_position']\n",
    "c_OYZ_position = c_OYZ['robotId_1']['pipette_position']"
   ]
  },
  {
   "cell_type": "code",
   "execution_count": 11,
   "metadata": {},
   "outputs": [],
   "source": [
    "# Combine Data for each coordinate\n",
    "x_coordinates = [c_OOO_position[0], c_XOO_position[0], c_XYO_position[0], c_OYO_position[0],\n",
    "                 c_OOZ_position[0], c_XOZ_position[0], c_XYZ_position[0], c_OYZ_position[0]]\n",
    "\n",
    "y_coordinates = [c_OOO_position[1], c_XOO_position[1], c_XYO_position[1], c_OYO_position[1],\n",
    "                 c_OOZ_position[1], c_XOZ_position[1], c_XYZ_position[1], c_OYZ_position[1]]\n",
    "\n",
    "z_coordinates = [c_OOO_position[2], c_XOO_position[2], c_XYO_position[2], c_OYO_position[2],\n",
    "                 c_OOZ_position[2], c_XOZ_position[2], c_XYZ_position[2], c_OYZ_position[2]]"
   ]
  },
  {
   "cell_type": "code",
   "execution_count": 12,
   "metadata": {},
   "outputs": [],
   "source": [
    "# Find Minimum and Maximum Values for each coordinate\n",
    "min_x = min(x_coordinates)\n",
    "max_x = max(x_coordinates)\n",
    "\n",
    "min_y = min(y_coordinates)\n",
    "max_y = max(y_coordinates)\n",
    "\n",
    "min_z = min(z_coordinates)\n",
    "max_z = max(z_coordinates)"
   ]
  },
  {
   "cell_type": "code",
   "execution_count": 13,
   "metadata": {},
   "outputs": [
    {
     "name": "stdout",
     "output_type": "stream",
     "text": [
      "Working Envelope:\n",
      "{'min_x': -0.1871, 'max_x': 0.253, 'min_y': -0.1706, 'max_y': 0.2195, 'min_z': 0.1197, 'max_z': 0.2898}\n"
     ]
    }
   ],
   "source": [
    "# Create Working Envelope\n",
    "working_envelope = {\n",
    "    'min_x': min_x,\n",
    "    'max_x': max_x,\n",
    "    'min_y': min_y,\n",
    "    'max_y': max_y,\n",
    "    'min_z': min_z,\n",
    "    'max_z': max_z\n",
    "}\n",
    "\n",
    "# Print or use the working envelope as needed\n",
    "print(\"Working Envelope:\")\n",
    "print(working_envelope)"
   ]
  },
  {
   "cell_type": "code",
   "execution_count": 16,
   "metadata": {},
   "outputs": [],
   "source": [
    "sim.close()"
   ]
  }
 ],
 "metadata": {
  "kernelspec": {
   "display_name": "robotics_block_B_Y2",
   "language": "python",
   "name": "python3"
  },
  "language_info": {
   "codemirror_mode": {
    "name": "ipython",
    "version": 3
   },
   "file_extension": ".py",
   "mimetype": "text/x-python",
   "name": "python",
   "nbconvert_exporter": "python",
   "pygments_lexer": "ipython3",
   "version": "3.9.18"
  }
 },
 "nbformat": 4,
 "nbformat_minor": 2
}
